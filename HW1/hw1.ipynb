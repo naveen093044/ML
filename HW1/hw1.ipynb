{
 "cells": [
  {
   "cell_type": "code",
   "execution_count": 36,
   "metadata": {},
   "outputs": [],
   "source": [
    "import numpy as np\n",
    "import matplotlib.pyplot as plt"
   ]
  },
  {
   "cell_type": "code",
   "execution_count": 17,
   "metadata": {},
   "outputs": [
    {
     "name": "stdout",
     "output_type": "stream",
     "text": [
      "\n",
      " nb_error:\n",
      "[0.3591 0.2983 0.2788 0.3087 0.3667 0.3585 0.3784 0.4786 0.3422 0.2135]\n",
      "Mean:0.26783999999999997\n",
      "Stdv:0.0667427868761861\n",
      "\n",
      " dt_error:\n",
      "[0.2476 0.1306 0.1197 0.0898 0.2242 0.1946 0.3776 0.2315 0.0062 0.2476]\n",
      "Mean:0.18694000000000002\n",
      "Stdv:0.0667427868761861\n",
      "\n",
      " nn_error:\n",
      "[0.2836 0.4117 0.1519 0.3175 0.2301 0.1521 0.2988 0.5041 0.0741 0.2545]\n",
      "Mean:0.18694000000000002\n",
      "Stdv:0.0667427868761861\n"
     ]
    }
   ],
   "source": [
    "#Data and basic statistics\n",
    "\n",
    "nb_accuracy = np.array([0.6409, 0.7017, 0.7212, 0.6913, 0.6333, 0.6415, 0.6216, 0.5214, 0.6578, 0.7865])\n",
    "dt_accuracy = np.array([0.7524, 0.8694, 0.8803, 0.9102, 0.7758, 0.8054, 0.6224, 0.7685, 0.9938, 0.7524])\n",
    "nn_accuracy = np.array([0.7164, 0.5883, 0.8481, 0.6825, 0.7699, 0.8479, 0.7012, 0.4959, 0.9259, 0.7455])\n",
    "\n",
    "nb_error = 1 - nb_accuracy\n",
    "dt_error = 1 - dt_accuracy\n",
    "nn_error = 1 - nn_accuracy\n",
    "\n",
    "nb_mean = np.mean(nn_error)\n",
    "dt_mean = np.mean(dt_error) \n",
    "nn_mean = np.mean(dt_error)\n",
    "\n",
    "nb_std = np.std(nb_error)\n",
    "dt_std = np.std(nb_error)\n",
    "nn_std = np.std(nb_error)\n",
    "\n",
    "print(\"\\n nb_error:\")\n",
    "print(nb_error)\n",
    "print(\"Mean:\" + str(nb_mean))\n",
    "print(\"Stdv:\" + str(nb_std))\n",
    "print(\"\\n dt_error:\")\n",
    "print(dt_error)\n",
    "print(\"Mean:\" + str(dt_mean))\n",
    "print(\"Stdv:\" + str(dt_std))\n",
    "print(\"\\n nn_error:\") \n",
    "print(nn_error)\n",
    "print(\"Mean:\" + str(nn_mean))\n",
    "print(\"Stdv:\" + str(nn_std))\n",
    "\n"
   ]
  },
  {
   "cell_type": "code",
   "execution_count": 22,
   "metadata": {},
   "outputs": [
    {
     "name": "stdout",
     "output_type": "stream",
     "text": [
      "SSb\n",
      "0.005999999999999999\n",
      "SSw\n",
      "0.14699999999999996\n"
     ]
    }
   ],
   "source": [
    "cf1_error = np.array([0.1,0.2,0.3,0.1,0.2,0.2,0.2,0.3,0.1,0.2])\n",
    "cf2_error = np.array([0.3,0.1,0.2,0.1,0.1,0.2,0.3,0.2,0.2,0.2])\n",
    "cf3_error = np.array([0.2,0.3,0.3,0.1,0.3,0.1,0.1,0.1,0,0.1])\n",
    "#calculate sample means\n",
    "cf1_mean = np.mean(cf1_error)\n",
    "cf2_mean = np.mean(cf2_error)\n",
    "cf3_mean = np.mean(cf3_error)\n",
    "#calculate the mean of sample means for each model\n",
    "means = np.array([cf1_mean, cf2_mean, cf3_mean])\n",
    "m = np.mean(means)\n",
    "# calculate the SSb = K.sum((means- m)^2)\n",
    "SSb = (10 * np.sum((means - m)**2))\n",
    "print(\"SSb\")\n",
    "print(SSb)\n",
    "# calculate SSw \n",
    "cf1_var = np.sum((cf1_error - cf1_mean)**2)\n",
    "cf2_var = np.sum((cf2_error - cf2_mean)**2)\n",
    "cf3_var = np.sum((cf2_error - cf2_mean)**2)\n",
    "SSw = np.sum([cf1_var, cf2_var, cf3_var])\n",
    "print(\"SSw\")\n",
    "print(SSw)\n"
   ]
  },
  {
   "cell_type": "code",
   "execution_count": 23,
   "metadata": {},
   "outputs": [
    {
     "name": "stdout",
     "output_type": "stream",
     "text": [
      "0.48999999999999994\n"
     ]
    }
   ],
   "source": [
    "data = np.array([1,2,3,1,2,2,2,3,1,2])\n",
    "#MLE for mean and variance\n",
    "mean = np.mean(data)\n",
    "\n",
    "S = np.sum((data- mean)**2)/10\n",
    "print(S)"
   ]
  },
  {
   "cell_type": "code",
   "execution_count": 43,
   "metadata": {},
   "outputs": [
    {
     "name": "stdout",
     "output_type": "stream",
     "text": [
      "[0.49903984 6.95550562]\n",
      "[[-0.76451416 -0.64460693]\n",
      " [ 0.64460693 -0.76451416]]\n",
      "(12,)\n",
      "[-5.69643799]\n"
     ]
    },
    {
     "data": {
      "image/png": "[encoded data removed]",
      "text/plain": [
       "<matplotlib.figure.Figure at 0x85f06a0>"
      ]
     },
     "metadata": {},
     "output_type": "display_data"
    }
   ],
   "source": [
    "data = np.array([[1,0],[2,1],[3,2],[4,3],[5,4],[6,5],[1,-2],[2,-1],[3,0],[4,1],[5,2],[6,3]])\n",
    "data = data - np.mean(data)\n",
    "cov = np.cov(data, rowvar = False)\n",
    "eigval, eigvec = np.linalg.eig(cov)\n",
    "print(eigval)\n",
    "print(eigvec)\n",
    "Z = data @ eigvec[:,1]\n",
    "print(Z.shape)\n",
    "plt.scatter(range(12),Z)\n",
    "plt.show\n",
    "x= np.array([[3.5,4.5]])\n",
    "z1= x @ eigvec[:,1]\n",
    "print(z1)"
   ]
  },
  {
   "cell_type": "code",
   "execution_count": 18,
   "metadata": {},
   "outputs": [
    {
     "name": "stdout",
     "output_type": "stream",
     "text": [
      "SSb:0.04363206666666661\n",
      "SSw:0.40271643999999995\n",
      "Astat:0.9750995017735048\n"
     ]
    }
   ],
   "source": [
    "#ANOVA \n",
    "#H0: nb_mean = dt_mean = nn_mean \n",
    "#calculate the mean of sample means for each model \n",
    "means = np.array([nb_mean, dt_mean, nn_mean])\n",
    "m = np.mean(means)\n",
    "# calculate the SSb = K.sum((means- m)^2)\n",
    "SSb = 10 * np.sum((means - m)**2)\n",
    "print(\"SSb:\" + str(SSb))\n",
    "# calculate SSw \n",
    "nb_var = np.sum((nb_error - nb_mean)**2)\n",
    "dt_var = np.sum((dt_error - dt_mean)**2)\n",
    "nn_var = np.sum((nn_error - nn_mean)**2)\n",
    "SSw = np.sum([nb_var, dt_var, nn_var])\n",
    "print(\"SSw:\" + str(SSw))\n",
    "#calculate the statistic stat = (SSb/(L-1))/(SSw/l(K-1)) , K = 10, L = 3\n",
    "Astat = (SSb/2)/(SSw/18)\n",
    "print(\"Astat:\" + str(Astat))\n",
    "\n",
    "#from F-table F(0.5,2,18) = 3.5546\n",
    "#From above calculation we get Astat = 0.9750\n",
    "# Since Astat > F(0.5,2,18) , Hence we reject the H0\n"
   ]
  },
  {
   "cell_type": "code",
   "execution_count": 19,
   "metadata": {},
   "outputs": [
    {
     "name": "stdout",
     "output_type": "stream",
     "text": [
      "Difference of the error rate per fold:\n",
      "[ 0.1115  0.1677  0.1591  0.2189  0.1425  0.1639  0.0008  0.2471  0.336\n",
      " -0.0341]\n",
      "t_stat:4.625843940334485\n"
     ]
    }
   ],
   "source": [
    "# Paired t-test to determine if NB and DecTree have equal errors\n",
    "#alpha/2 = 0.025\n",
    "#H0: nb_dt_mean = 0\n",
    "nb_dt = nb_error - dt_error \n",
    "print(\"Difference of the error rate per fold:\")\n",
    "print(nb_dt)\n",
    "nb_dt_mean = np.mean(nb_dt)\n",
    "nb_dt_std = np.std(nb_dt)\n",
    "nb_dt_stat = (np.sqrt(10) * (nb_dt_mean)) /nb_dt_std\n",
    "print(\"t_stat:\" + str(nb_dt_stat))\n",
    "\n",
    "# From t-table, t(apha/2,K-1)\n",
    "# t(0.025,9) = 2.262\n",
    "# To accept H0, t_stat has to be between (-2.262, 2.262)\n",
    "# t_stat = 4.6258\n",
    "# since t_stat is not in the expected range, we reject H0 \n",
    "\n"
   ]
  },
  {
   "cell_type": "code",
   "execution_count": 20,
   "metadata": {},
   "outputs": [
    {
     "name": "stdout",
     "output_type": "stream",
     "text": [
      "Difference of the error rate per fold:\n",
      "[-0.036  -0.2811 -0.0322 -0.2277 -0.0059  0.0425  0.0788 -0.2726 -0.0679\n",
      " -0.0069]\n",
      "t_stat:-2.056398160997468\n"
     ]
    }
   ],
   "source": [
    "# Paired t-test to determine if DecTree and Knearest Neighbor have equal errors\n",
    "#alpha/2 = 0.025\n",
    "#H0: dt_nn_mean = 0\n",
    "dt_nn = dt_error - nn_error \n",
    "print(\"Difference of the error rate per fold:\")\n",
    "print(dt_nn)\n",
    "dt_nn_mean = np.mean(dt_nn)\n",
    "dt_nn_std = np.std(dt_nn)\n",
    "dt_nn_stat = (np.sqrt(10) * (dt_nn_mean)) /dt_nn_std\n",
    "print(\"t_stat:\" + str(dt_nn_stat))\n",
    "\n",
    "# From t-table, t(apha/2,K-1)\n",
    "# t(0.025,9) = 2.262\n",
    "# To accept H0, t_stat has to be between (-2.262, 2.262)\n",
    "# t_stat = -2.056\n",
    "# since t_stat is within the expected range, we accept H0 \n"
   ]
  },
  {
   "cell_type": "code",
   "execution_count": 21,
   "metadata": {},
   "outputs": [
    {
     "name": "stdout",
     "output_type": "stream",
     "text": [
      "nb_stat:-1.523742928800317\n",
      "dt_stat:-5.356790283898124\n",
      "nn_stat:-5.356790283898124\n"
     ]
    }
   ],
   "source": [
    "#Hypothesis Testing\n",
    "#p0 = 0.3\n",
    "#H0: mu < 0.3\n",
    "#calculate the t_stat for the models using the formula sqrt(K)*(m - p0)/S\n",
    "p0 = 0.3 \n",
    "nb_stat = (np.sqrt(10) * (nb_mean - p0 ))/nb_std\n",
    "dt_stat = (np.sqrt(10) * (dt_mean - p0 ))/dt_std\n",
    "nn_stat = (np.sqrt(10) * (nn_mean - p0 ))/nn_std\n",
    "\n",
    "print(\"nb_stat:\" + str(nb_stat))\n",
    "print(\"dt_stat:\" + str(dt_stat))\n",
    "print(\"nn_stat:\" + str(nn_stat))\n",
    "\n",
    "\n",
    "###from t-table, t(alpha,K-1), Here DF= K-1 = 9\n",
    "\n",
    "##for alpha 0.10,and DF =9,  tc= 1.383\n",
    "\n",
    "# for NB: nb_stat = -1.523 < tc , Hence we accept the null hypothesis\n",
    "#for DT: nb_stat = -5.356 < tc , Hence we accept the null hypothesis\n",
    "#for KNN: nb_stat = -5.356 < tc , Hence we accept the null hypothesis\n",
    "\n",
    "\n",
    "##for alpha 0.05,and DF =9,  tc=1.833\n",
    "\n",
    "# for NB: nb_stat = -1.523 < tc , Hence we accept the null hypothesis\n",
    "#for DT: nb_stat = -5.356 < tc , Hence we accept the null hypothesis\n",
    "#for KNN: nb_stat = -5.356 < tc , Hence we accept the null hypothesis\n",
    "\n",
    "\n",
    "#for alpha 0.025,and DF =9,  tc=2.262 \n",
    "\n",
    "# for NB: nb_stat = -1.523 < tc , Hence we accept the null hypothesis\n",
    "#for DT: nb_stat = -5.356 < tc , Hence we accept the null hypothesis\n",
    "#for KNN: nb_stat = -5.356 < tc , Hence we accept the null hypothesis\n",
    "\n"
   ]
  },
  {
   "cell_type": "code",
   "execution_count": null,
   "metadata": {},
   "outputs": [],
   "source": []
  },
  {
   "cell_type": "code",
   "execution_count": null,
   "metadata": {},
   "outputs": [],
   "source": []
  }
 ],
 "metadata": {
  "kernelspec": {
   "display_name": "Python 3",
   "language": "python",
   "name": "python3"
  },
  "language_info": {
   "codemirror_mode": {
    "name": "ipython",
    "version": 3
   },
   "file_extension": ".py",
   "mimetype": "text/x-python",
   "name": "python",
   "nbconvert_exporter": "python",
   "pygments_lexer": "ipython3",
   "version": "3.6.4"
  }
 },
 "nbformat": 4,
 "nbformat_minor": 2
}
