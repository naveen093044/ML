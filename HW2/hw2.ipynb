{
 "cells": [
  {
   "cell_type": "code",
   "execution_count": 1,
   "metadata": {},
   "outputs": [],
   "source": [
    "import pandas as pd\n",
    "import numpy as np"
   ]
  },
  {
   "cell_type": "code",
   "execution_count": 2,
   "metadata": {},
   "outputs": [],
   "source": [
    "train = pd.read_csv(r\"C:\\Users\\navee\\Downloads\\ML Materials\\HW2\\optdigits.tra\", header =None)\n",
    "test = pd.read_csv(r\"C:\\Users\\navee\\Downloads\\ML Materials\\HW2\\optdigits.tes\", header =None)"
   ]
  },
  {
   "cell_type": "code",
   "execution_count": 3,
   "metadata": {},
   "outputs": [
    {
     "data": {
      "text/html": [
       "<div>\n",
       "<style scoped>\n",
       "    .dataframe tbody tr th:only-of-type {\n",
       "        vertical-align: middle;\n",
       "    }\n",
       "\n",
       "    .dataframe tbody tr th {\n",
       "        vertical-align: top;\n",
       "    }\n",
       "\n",
       "    .dataframe thead th {\n",
       "        text-align: right;\n",
       "    }\n",
       "</style>\n",
       "<table border=\"1\" class=\"dataframe\">\n",
       "  <thead>\n",
       "    <tr style=\"text-align: right;\">\n",
       "      <th></th>\n",
       "      <th>0</th>\n",
       "      <th>1</th>\n",
       "      <th>2</th>\n",
       "      <th>3</th>\n",
       "      <th>4</th>\n",
       "      <th>5</th>\n",
       "      <th>6</th>\n",
       "      <th>7</th>\n",
       "      <th>8</th>\n",
       "      <th>9</th>\n",
       "      <th>...</th>\n",
       "      <th>55</th>\n",
       "      <th>56</th>\n",
       "      <th>57</th>\n",
       "      <th>58</th>\n",
       "      <th>59</th>\n",
       "      <th>60</th>\n",
       "      <th>61</th>\n",
       "      <th>62</th>\n",
       "      <th>63</th>\n",
       "      <th>64</th>\n",
       "    </tr>\n",
       "  </thead>\n",
       "  <tbody>\n",
       "    <tr>\n",
       "      <th>6</th>\n",
       "      <td>0</td>\n",
       "      <td>0</td>\n",
       "      <td>0</td>\n",
       "      <td>12</td>\n",
       "      <td>13</td>\n",
       "      <td>0</td>\n",
       "      <td>0</td>\n",
       "      <td>0</td>\n",
       "      <td>0</td>\n",
       "      <td>0</td>\n",
       "      <td>...</td>\n",
       "      <td>0</td>\n",
       "      <td>0</td>\n",
       "      <td>0</td>\n",
       "      <td>1</td>\n",
       "      <td>9</td>\n",
       "      <td>15</td>\n",
       "      <td>11</td>\n",
       "      <td>3</td>\n",
       "      <td>0</td>\n",
       "      <td>6</td>\n",
       "    </tr>\n",
       "    <tr>\n",
       "      <th>16</th>\n",
       "      <td>0</td>\n",
       "      <td>0</td>\n",
       "      <td>0</td>\n",
       "      <td>8</td>\n",
       "      <td>15</td>\n",
       "      <td>1</td>\n",
       "      <td>0</td>\n",
       "      <td>0</td>\n",
       "      <td>0</td>\n",
       "      <td>0</td>\n",
       "      <td>...</td>\n",
       "      <td>2</td>\n",
       "      <td>0</td>\n",
       "      <td>0</td>\n",
       "      <td>0</td>\n",
       "      <td>7</td>\n",
       "      <td>15</td>\n",
       "      <td>16</td>\n",
       "      <td>11</td>\n",
       "      <td>0</td>\n",
       "      <td>6</td>\n",
       "    </tr>\n",
       "    <tr>\n",
       "      <th>26</th>\n",
       "      <td>0</td>\n",
       "      <td>0</td>\n",
       "      <td>1</td>\n",
       "      <td>13</td>\n",
       "      <td>14</td>\n",
       "      <td>3</td>\n",
       "      <td>0</td>\n",
       "      <td>0</td>\n",
       "      <td>0</td>\n",
       "      <td>0</td>\n",
       "      <td>...</td>\n",
       "      <td>0</td>\n",
       "      <td>0</td>\n",
       "      <td>0</td>\n",
       "      <td>3</td>\n",
       "      <td>12</td>\n",
       "      <td>15</td>\n",
       "      <td>14</td>\n",
       "      <td>7</td>\n",
       "      <td>0</td>\n",
       "      <td>6</td>\n",
       "    </tr>\n",
       "    <tr>\n",
       "      <th>34</th>\n",
       "      <td>0</td>\n",
       "      <td>0</td>\n",
       "      <td>0</td>\n",
       "      <td>5</td>\n",
       "      <td>14</td>\n",
       "      <td>2</td>\n",
       "      <td>0</td>\n",
       "      <td>0</td>\n",
       "      <td>0</td>\n",
       "      <td>0</td>\n",
       "      <td>...</td>\n",
       "      <td>0</td>\n",
       "      <td>0</td>\n",
       "      <td>0</td>\n",
       "      <td>0</td>\n",
       "      <td>5</td>\n",
       "      <td>16</td>\n",
       "      <td>15</td>\n",
       "      <td>3</td>\n",
       "      <td>0</td>\n",
       "      <td>6</td>\n",
       "    </tr>\n",
       "    <tr>\n",
       "      <th>58</th>\n",
       "      <td>0</td>\n",
       "      <td>0</td>\n",
       "      <td>0</td>\n",
       "      <td>10</td>\n",
       "      <td>13</td>\n",
       "      <td>1</td>\n",
       "      <td>0</td>\n",
       "      <td>0</td>\n",
       "      <td>0</td>\n",
       "      <td>1</td>\n",
       "      <td>...</td>\n",
       "      <td>0</td>\n",
       "      <td>0</td>\n",
       "      <td>0</td>\n",
       "      <td>0</td>\n",
       "      <td>7</td>\n",
       "      <td>15</td>\n",
       "      <td>15</td>\n",
       "      <td>5</td>\n",
       "      <td>0</td>\n",
       "      <td>6</td>\n",
       "    </tr>\n",
       "  </tbody>\n",
       "</table>\n",
       "<p>5 rows × 65 columns</p>\n",
       "</div>"
      ],
      "text/plain": [
       "    0   1   2   3   4   5   6   7   8   9  ...  55  56  57  58  59  60  61  \\\n",
       "6    0   0   0  12  13   0   0   0   0   0 ...   0   0   0   1   9  15  11   \n",
       "16   0   0   0   8  15   1   0   0   0   0 ...   2   0   0   0   7  15  16   \n",
       "26   0   0   1  13  14   3   0   0   0   0 ...   0   0   0   3  12  15  14   \n",
       "34   0   0   0   5  14   2   0   0   0   0 ...   0   0   0   0   5  16  15   \n",
       "58   0   0   0  10  13   1   0   0   0   1 ...   0   0   0   0   7  15  15   \n",
       "\n",
       "    62  63  64  \n",
       "6    3   0   6  \n",
       "16  11   0   6  \n",
       "26   7   0   6  \n",
       "34   3   0   6  \n",
       "58   5   0   6  \n",
       "\n",
       "[5 rows x 65 columns]"
      ]
     },
     "execution_count": 3,
     "metadata": {},
     "output_type": "execute_result"
    }
   ],
   "source": [
    "test_69 = test[test[64]==6].append(test[test[64]==9])\n",
    "test_69.head(5)"
   ]
  },
  {
   "cell_type": "code",
   "execution_count": 4,
   "metadata": {},
   "outputs": [],
   "source": [
    "#create dataset X25_69\n",
    "X_6 = train[train[64]==6]\n",
    "X_9 = train[train[64]==9]\n",
    "X25_C6 = X_6.iloc[np.random.randint(0,377, size = 25),:]\n",
    "X25_C9 = X_9.iloc[np.random.randint(0,382, size = 25),:]\n",
    "X25_69 = X25_C6.append(X25_C9)\n",
    "\n"
   ]
  },
  {
   "cell_type": "code",
   "execution_count": 5,
   "metadata": {},
   "outputs": [],
   "source": [
    "#create dataset X100_69\n",
    "X100_C6 = X_6.iloc[np.random.randint(0,377, size = 100),:]\n",
    "X100_C9 = X_9.iloc[np.random.randint(0,377, size = 100),:]\n",
    "X100_69 = X100_C6.append(X100_C9)\n"
   ]
  },
  {
   "cell_type": "code",
   "execution_count": 111,
   "metadata": {},
   "outputs": [
    {
     "data": {
      "text/plain": [
       "(50, 65)"
      ]
     },
     "execution_count": 111,
     "metadata": {},
     "output_type": "execute_result"
    }
   ],
   "source": [
    "X25_69.shape"
   ]
  },
  {
   "cell_type": "code",
   "execution_count": 8,
   "metadata": {},
   "outputs": [
    {
     "data": {
      "text/plain": [
       "(200, 65)"
      ]
     },
     "execution_count": 8,
     "metadata": {},
     "output_type": "execute_result"
    }
   ],
   "source": [
    "X100_69.shape"
   ]
  },
  {
   "cell_type": "code",
   "execution_count": 105,
   "metadata": {},
   "outputs": [],
   "source": [
    "def parametric_classification(df):\n",
    "    data = df.copy(deep = True)\n",
    "    for col in data:\n",
    "        if(np.var(data[data[64]==6][col].values)!= 0 and np.var(data[data[64]==9][col].values)!= 0): \n",
    "            prior_6 = data[data[64]== 6].shape[0]/data.shape[0]\n",
    "            m_6 = np.mean(data[data[64]==6][col].values)\n",
    "            var_6 = np.var(data[data[64]==6][col].values)\n",
    "            \n",
    "            prior_9 = data[data[64]== 9].shape[0]/data.shape[0]\n",
    "            m_9 = np.mean(data[data[64]==9][col].values)\n",
    "            var_9 = np.var(data[data[64]==9][col].values)\n",
    "            pred = []\n",
    "            \n",
    "            for i in range(data.shape[0]):\n",
    "                X = data[col].iloc[i]\n",
    "                g_6_x = -(np.log(var_6)) - ((X - m_6)**2)/(2 * (var_6)**2) + np.log(prior_6)\n",
    "                g_9_x = -(np.log(var_9)) - ((X - m_9)**2)/(2 * (var_9)**2) + np.log(prior_9)\n",
    "                if(g_6_x > g_9_x):\n",
    "                    pred.append(6)\n",
    "                else: \n",
    "                    pred.append(9)\n",
    "            data[\"pred\"+ str(col)] = pred            \n",
    "            \n",
    "    return data       \n",
    "            \n",
    "    \n"
   ]
  },
  {
   "cell_type": "code",
   "execution_count": 106,
   "metadata": {},
   "outputs": [],
   "source": [
    " result_25 = parametric_classification(X25_69)"
   ]
  },
  {
   "cell_type": "code",
   "execution_count": 108,
   "metadata": {},
   "outputs": [],
   "source": [
    "def training_error(data, prediction):\n",
    "    error = pd.DataFrame()\n",
    "    for col in data:\n",
    "        if(np.var(data[data[64]==6][col].values)!= 0 and np.var(data[data[64]==9][col].values)!= 0):\n",
    "            error[col] =[ np.mean(data[64] == prediction[\"pred\" + str(col)])]\n",
    "    return error\n",
    "                "
   ]
  },
  {
   "cell_type": "code",
   "execution_count": 109,
   "metadata": {},
   "outputs": [],
   "source": [
    "training_error_X25 = training_error(X25_69,result_25) "
   ]
  },
  {
   "cell_type": "code",
   "execution_count": 74,
   "metadata": {},
   "outputs": [],
   "source": [
    "training_error_X25.to_csv(r\"C:\\Users\\navee\\Downloads\\ML Materials\\HW2\\x25_training_error.csv\", index= False)"
   ]
  },
  {
   "cell_type": "code",
   "execution_count": 95,
   "metadata": {},
   "outputs": [],
   "source": [
    "def test_classifier(data, test):\n",
    "    test = test.copy(deep = True)\n",
    "    for col in data:\n",
    "        if(np.var(data[data[64]==6][col].values)!= 0 and np.var(data[data[64]==9][col].values)!= 0): \n",
    "            prior_6 = data[data[64]== 6].shape[0]/data.shape[0]\n",
    "            m_6 = np.mean(data[data[64]==6][col].values)\n",
    "            var_6 = np.var(data[data[64]==6][col].values)\n",
    "            \n",
    "            prior_9 = data[data[64]== 9].shape[0]/data.shape[0]\n",
    "            m_9 = np.mean(data[data[64]==9][col].values)\n",
    "            var_9 = np.var(data[data[64]==9][col].values)\n",
    "            pred = []\n",
    "            \n",
    "            for i in range(test.shape[0]):\n",
    "                X = test[col].iloc[i]\n",
    "                g_6_x = -(np.log(var_6)) - ((X - m_6)**2)/(2 * (var_6)**2) + np.log(prior_6)\n",
    "                g_9_x = -(np.log(var_9)) - ((X - m_9)**2)/(2 * (var_9)**2) + np.log(prior_9)\n",
    "                if(g_6_x > g_9_x):\n",
    "                    pred.append(6)\n",
    "                else:\n",
    "                    pred.append(9)\n",
    "            test[\"pred\"+ str(col)] = pred\n",
    "            \n",
    "            \n",
    "    return test       \n",
    "    "
   ]
  },
  {
   "cell_type": "code",
   "execution_count": 96,
   "metadata": {},
   "outputs": [],
   "source": [
    "test_25 = test_classifier(X25_69,test_69)"
   ]
  },
  {
   "cell_type": "code",
   "execution_count": 100,
   "metadata": {},
   "outputs": [],
   "source": [
    "def test_error(data, test, prediction):\n",
    "    error = pd.DataFrame()\n",
    "    for col in data:\n",
    "        if(np.var(data[data[64]==6][col].values)!= 0 and np.var(data[data[64]==9][col].values)!= 0):\n",
    "            error[col] =[ np.mean(test[64] == prediction[\"pred\" + str(col)])]\n",
    "    return error"
   ]
  },
  {
   "cell_type": "code",
   "execution_count": 101,
   "metadata": {},
   "outputs": [],
   "source": [
    "test_error_25 = test_error(X25_69, test_69, test_25)"
   ]
  },
  {
   "cell_type": "code",
   "execution_count": 103,
   "metadata": {},
   "outputs": [],
   "source": [
    "test_error_25.to_csv(r\"C:\\Users\\navee\\Downloads\\ML Materials\\HW2\\x25_test_error.csv\", index= False)"
   ]
  },
  {
   "cell_type": "code",
   "execution_count": 110,
   "metadata": {},
   "outputs": [],
   "source": [
    "result_100 = parametric_classification(X100_69)"
   ]
  },
  {
   "cell_type": "code",
   "execution_count": 112,
   "metadata": {},
   "outputs": [],
   "source": [
    "training_error_100 = training_error(X100_69,result_100)"
   ]
  },
  {
   "cell_type": "code",
   "execution_count": 113,
   "metadata": {},
   "outputs": [],
   "source": [
    "training_error_100.to_csv(r\"C:\\Users\\navee\\Downloads\\ML Materials\\HW2\\x100_training_error.csv\", index= False)"
   ]
  },
  {
   "cell_type": "code",
   "execution_count": 114,
   "metadata": {},
   "outputs": [],
   "source": [
    "test_100 = test_classifier(X100_69,test_69)"
   ]
  },
  {
   "cell_type": "code",
   "execution_count": 115,
   "metadata": {},
   "outputs": [],
   "source": [
    "test_error_100 = test_error(X100_69, test_69, test_100)"
   ]
  },
  {
   "cell_type": "code",
   "execution_count": 116,
   "metadata": {},
   "outputs": [],
   "source": [
    "test_error_100.to_csv(r\"C:\\Users\\navee\\Downloads\\ML Materials\\HW2\\x100_test_error.csv\", index= False)"
   ]
  },
  {
   "cell_type": "code",
   "execution_count": 117,
   "metadata": {},
   "outputs": [],
   "source": [
    "#create dataset X25_69_Unbalanced\n",
    "X75_C6 = X_6.iloc[np.random.randint(0,377, size = 75),:]\n",
    "X25_C9_u = X_9.iloc[np.random.randint(0,382, size = 25),:]\n",
    "X25_69_Unbalanced = X75_C6.append(X25_C9_u)\n"
   ]
  },
  {
   "cell_type": "code",
   "execution_count": 118,
   "metadata": {},
   "outputs": [],
   "source": [
    "result_25_u = parametric_classification(X25_69_Unbalanced)"
   ]
  },
  {
   "cell_type": "code",
   "execution_count": 119,
   "metadata": {},
   "outputs": [],
   "source": [
    "train_error_25_u = training_error(X25_69_Unbalanced, result_25_u)"
   ]
  },
  {
   "cell_type": "code",
   "execution_count": 120,
   "metadata": {},
   "outputs": [],
   "source": [
    "train_error_25_u.to_csv(r\"C:\\Users\\navee\\Downloads\\ML Materials\\HW2\\x25_u_training_error.csv\", index= False)"
   ]
  },
  {
   "cell_type": "code",
   "execution_count": 121,
   "metadata": {},
   "outputs": [],
   "source": [
    "test_25_u = test_classifier(X25_69_Unbalanced, test_69)"
   ]
  },
  {
   "cell_type": "code",
   "execution_count": 122,
   "metadata": {},
   "outputs": [],
   "source": [
    "test_error_25_u = test_error(X25_69_Unbalanced,test_69, test_25_u)"
   ]
  },
  {
   "cell_type": "code",
   "execution_count": 124,
   "metadata": {},
   "outputs": [],
   "source": [
    "test_error_25_u.to_csv(r\"C:\\Users\\navee\\Downloads\\ML Materials\\HW2\\x25_u_test_error.csv\", index= False)"
   ]
  },
  {
   "cell_type": "code",
   "execution_count": null,
   "metadata": {},
   "outputs": [],
   "source": []
  }
 ],
 "metadata": {
  "kernelspec": {
   "display_name": "Python 3",
   "language": "python",
   "name": "python3"
  },
  "language_info": {
   "codemirror_mode": {
    "name": "ipython",
    "version": 3
   },
   "file_extension": ".py",
   "mimetype": "text/x-python",
   "name": "python",
   "nbconvert_exporter": "python",
   "pygments_lexer": "ipython3",
   "version": "3.6.4"
  }
 },
 "nbformat": 4,
 "nbformat_minor": 2
}
