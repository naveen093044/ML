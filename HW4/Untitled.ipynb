{
 "cells": [
  {
   "cell_type": "code",
   "execution_count": 1,
   "metadata": {},
   "outputs": [],
   "source": [
    "import numpy as np"
   ]
  },
  {
   "cell_type": "code",
   "execution_count": 6,
   "metadata": {},
   "outputs": [
    {
     "name": "stdout",
     "output_type": "stream",
     "text": [
      "[1.23, 1.616]\n"
     ]
    }
   ],
   "source": [
    "x= np.array([3, 0.2, 0.5, 1])\n",
    "mean = np.array([0.3, -0.7, 1.0, 0.5])\n",
    "x = x-mean\n",
    "#We choose eigen vectors with maximum eigen values\n",
    "v1 = np.array([-0.2, 0.3, -2,1]) #corresponding to w4 with eigen value 3.1\n",
    "v2 = np.array([0.29, 0.37, 1,2]) #corresponding to w3 with eigen vaue 2.3\n",
    "z1 = x @ v1.T\n",
    "z2 = x @ v2.T\n",
    "print([z1,z2])"
   ]
  },
  {
   "cell_type": "code",
   "execution_count": 15,
   "metadata": {},
   "outputs": [],
   "source": [
    "from scipy.stats import multivariate_normal\n",
    "var = multivariate_normal(mean=[1.5,3.25], cov=[[1,0],[0,1]])\n",
    "g1 = var.pdf([3,4])\n",
    "var = multivariate_normal(mean=[4.2,6.55], cov=[[1,0],[0,1]])\n",
    "g2 = var.pdf([3,4])\n"
   ]
  },
  {
   "cell_type": "code",
   "execution_count": 20,
   "metadata": {},
   "outputs": [
    {
     "data": {
      "text/plain": [
       "2.281212590482357e-08"
      ]
     },
     "execution_count": 20,
     "metadata": {},
     "output_type": "execute_result"
    }
   ],
   "source": [
    "g1* (4/104)"
   ]
  },
  {
   "cell_type": "code",
   "execution_count": 18,
   "metadata": {},
   "outputs": [
    {
     "data": {
      "text/plain": [
       "0.0028846613193215416"
      ]
     },
     "execution_count": 18,
     "metadata": {},
     "output_type": "execute_result"
    }
   ],
   "source": [
    "g2 *(100/104)"
   ]
  },
  {
   "cell_type": "code",
   "execution_count": null,
   "metadata": {},
   "outputs": [],
   "source": []
  }
 ],
 "metadata": {
  "kernelspec": {
   "display_name": "Python 3",
   "language": "python",
   "name": "python3"
  },
  "language_info": {
   "codemirror_mode": {
    "name": "ipython",
    "version": 3
   },
   "file_extension": ".py",
   "mimetype": "text/x-python",
   "name": "python",
   "nbconvert_exporter": "python",
   "pygments_lexer": "ipython3",
   "version": "3.6.12"
  }
 },
 "nbformat": 4,
 "nbformat_minor": 2
}
